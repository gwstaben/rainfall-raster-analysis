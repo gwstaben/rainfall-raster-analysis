{
 "cells": [
  {
   "cell_type": "markdown",
   "metadata": {},
   "source": [
    "## This notebook runs a series of scripts to prepare and undertake analysis of the monthly rainfall raster layers."
   ]
  },
  {
   "cell_type": "markdown",
   "metadata": {},
   "source": [
    "#### The monthly rainfall raster grids are interpolated from BOM rainfall stations across Australia; produced by the QLD Government, further details can be found here:\n",
    "https://www.longpaddock.qld.gov.au/silo/ \n",
    "\n",
    "https://www.longpaddock.qld.gov.au/silo/about/publications-references/"
   ]
  },
  {
   "cell_type": "markdown",
   "metadata": {},
   "source": [
    "### There are a number of steps to undertake the analysis;\n",
    "-------------------------------------------------------------------------------------------------------------------------------\n",
    "Step 1. Produce the rainfall totals for a given period. Currently the total rainfall is calculated between May and April. For example, if the reporting year is 2021 the total rainfall is calculated between the months May 2020 to April 2021,  this takes into account the influence of rainfall for the 2021 growing season. The script \"seasonal_rainfall_calcs.py\" is used to produce these products. Note: Historic total rainfall raster layers (1989 to prevous reporting year) should exist in the rainfall directory however you will need to produce the current year. \n",
    "\n",
    "The naming convention for these products is:  \"AU_202105202204_total_rainfall.tif\" \n",
    "\n",
    "The script will also reproject the raster layer so it is projected in GDA94 / Australian Albers. It is automaticly renamed to : \"AU_202105202204_total_rainfall_a2.tif\" \n",
    "\n",
    "The AU total rainfall raster is then clipped to the NT boundary for further analysis and then clip out the NT. The user defines the file name and should follow the convention as shown here: NT_202105202204_total_rainfall_a2.tif \"NT_total_rainfall__a2.tif\"     \n",
    "\n",
    "-------------------------------------------------------------------------------------------------------------------------------\n"
   ]
  },
  {
   "cell_type": "markdown",
   "metadata": {},
   "source": [
    "Step 2. Calculates the percentile score (on a pixel by pixel basis) for the given year (e.g. 2021) by comparing the current total rainfall to all previous total rainfall from 1988 (we can go back futher however this matches the seasonal fractional cover decile rank product).\n",
    "\n",
    "The percentile score is then coverted to decile rank similar to the output for fractional cover.  \n",
    "\n",
    "There are two inputs into the script \"total_rain_percentileofscore.py\" 1) the list of total rainfall raster imagery (e.g. 1986 -2000) which is compare with the 2) input the currently year total rainfall raster (2001). The 3) input is the file name for the output percentile raster image. \n",
    "\n",
    "The csv file with the list of historic total rainfall rasters is made using the script \"list_of_files_multi_dir.py\"\n",
    "\n",
    "-------------------------------------------------------------------------------------------------------------------------------"
   ]
  },
  {
   "cell_type": "markdown",
   "metadata": {},
   "source": [
    "Step 3. Converts the percentile score raster to decile rank using the script \"perc_to_decile.py\"\n",
    "\n",
    "The input is the percentile score raster [file name convention: NT_201805201904_perc_rainfall_a2.tif] and the output is the decile rank raster [file name convention: NT_201805201904_decile_rainfall_a2.tif]\n",
    "\n",
    "-------------------------------------------------------------------------------------------------------------------------------"
   ]
  },
  {
   "cell_type": "markdown",
   "metadata": {},
   "source": [
    "## Step 1. "
   ]
  },
  {
   "cell_type": "code",
   "execution_count": 3,
   "metadata": {},
   "outputs": [
    {
     "name": "stdout",
     "output_type": "stream",
     "text": [
      "usage: seasonal_rainfall_calcs.py [-h] [-o TXTFILE] [-s YEARM_S] [-f YEARM_F]\n",
      "                                  [-a OUTPUT] [-n OUTPUTNT]\n",
      "\n",
      "optional arguments:\n",
      "  -h, --help            show this help message and exit\n",
      "  -o TXTFILE, --txtfile TXTFILE\n",
      "                        name of out put txt file containing the list of files\n",
      "                        used to calculate the total rainfall\n",
      "  -s YEARM_S, --yearM_S YEARM_S\n",
      "                        the year and month identifying the start of the\n",
      "                        seasonal period i.e. 202010\n",
      "  -f YEARM_F, --yearM_f YEARM_F\n",
      "                        the year and month identifying the end of the seasonal\n",
      "                        period i.e. 202104\n",
      "  -a OUTPUT, --output OUTPUT\n",
      "                        provide the output directory and file name for the\n",
      "                        total rainfall grid\n",
      "  -n OUTPUTNT, --outputNT OUTPUTNT\n",
      "                        provide the output directory and file name for the NT\n",
      "                        total rainfall grid\n"
     ]
    }
   ],
   "source": [
    "%run seasonal_rainfall_calcs.py -h"
   ]
  },
  {
   "cell_type": "code",
   "execution_count": 44,
   "metadata": {},
   "outputs": [
    {
     "name": "stdout",
     "output_type": "stream",
     "text": [
      "Z:\\Scratch\\grants\\plb_2021\\rain\\au\\AU_total_rainfall_202105202204.tif is complete\n",
      "Z:\\Scratch\\grants\\plb_2021\\rain\\au\\AU_total_rainfall_202105202204.tif has been reprojected\n",
      "Z:\\Scratch\\grants\\plb_2021\\rain\\nt\\NT_total_rainfall_202105202204_a2.tif has been clipped to the NT boundary\n"
     ]
    }
   ],
   "source": [
    "%run seasonal_rainfall_calcs.py -o monthly_rainfall_list.csv -s 202105 -f 202204 \\\n",
    "    -a Z:\\Scratch\\grants\\plb_2021\\rain\\au\\AU_total_rainfall_202105202204.tif \\\n",
    "    -n Z:\\Scratch\\grants\\plb_2021\\rain\\nt\\NT_total_rainfall_202105202204_a2.tif"
   ]
  },
  {
   "cell_type": "markdown",
   "metadata": {},
   "source": [
    "## Step 2."
   ]
  },
  {
   "cell_type": "code",
   "execution_count": null,
   "metadata": {},
   "outputs": [],
   "source": [
    "# create the list of total rainfall layers "
   ]
  },
  {
   "cell_type": "code",
   "execution_count": 1,
   "metadata": {},
   "outputs": [],
   "source": [
    "%run list_of_files_multi_dir.py -d Z:\\Scratch\\grants\\rainfall\\nt\\plb\\ -e a2.tif -o plb_total_rainfall_list.csv"
   ]
  },
  {
   "cell_type": "code",
   "execution_count": null,
   "metadata": {},
   "outputs": [],
   "source": [
    "# calculate the percentile score for the current reporting year"
   ]
  },
  {
   "cell_type": "code",
   "execution_count": 10,
   "metadata": {},
   "outputs": [
    {
     "name": "stdout",
     "output_type": "stream",
     "text": [
      "usage: total_rain_percentileofscore.py [-h] [-l IMGLIST] [-i IMG] [-o OUTFILE]\n",
      "\n",
      "optional arguments:\n",
      "  -h, --help            show this help message and exit\n",
      "  -l IMGLIST, --imglist IMGLIST\n",
      "                        input list of imagery to process, should be a pandas\n",
      "                        df without a header\n",
      "  -i IMG, --img IMG     input imagery to calculate the percentile score\n",
      "  -o OUTFILE, --outfile OUTFILE\n",
      "                        name of the output percentile score image\n"
     ]
    }
   ],
   "source": [
    "%run total_rain_percentileofscore.py -h"
   ]
  },
  {
   "cell_type": "markdown",
   "metadata": {},
   "source": [
    "### Note: you will need to edit the list of total rainfall grids to reflect the time period to calculate the percentile/decile from i.e. 1900 to year prior to the year being assessed - the current list contains all avialable grids starting in the 1800's. We are currently following the BOM analysis which comparse the current seaasonal total rainfall with all years from the 1900's  "
   ]
  },
  {
   "cell_type": "code",
   "execution_count": 10,
   "metadata": {
    "scrolled": true
   },
   "outputs": [
    {
     "name": "stdout",
     "output_type": "stream",
     "text": [
      "['Z:\\\\Scratch\\\\grants\\\\rainfall\\\\nt\\\\plb\\\\NT_189905190004_total_rainfall_a2.tif', 'Z:\\\\Scratch\\\\grants\\\\rainfall\\\\nt\\\\plb\\\\NT_190005190104_total_rainfall_a2.tif', 'Z:\\\\Scratch\\\\grants\\\\rainfall\\\\nt\\\\plb\\\\NT_190105190204_total_rainfall_a2.tif', 'Z:\\\\Scratch\\\\grants\\\\rainfall\\\\nt\\\\plb\\\\NT_190205190304_total_rainfall_a2.tif', 'Z:\\\\Scratch\\\\grants\\\\rainfall\\\\nt\\\\plb\\\\NT_190305190404_total_rainfall_a2.tif', 'Z:\\\\Scratch\\\\grants\\\\rainfall\\\\nt\\\\plb\\\\NT_190405190504_total_rainfall_a2.tif', 'Z:\\\\Scratch\\\\grants\\\\rainfall\\\\nt\\\\plb\\\\NT_190505190604_total_rainfall_a2.tif', 'Z:\\\\Scratch\\\\grants\\\\rainfall\\\\nt\\\\plb\\\\NT_190605190704_total_rainfall_a2.tif', 'Z:\\\\Scratch\\\\grants\\\\rainfall\\\\nt\\\\plb\\\\NT_190705190804_total_rainfall_a2.tif', 'Z:\\\\Scratch\\\\grants\\\\rainfall\\\\nt\\\\plb\\\\NT_190805190904_total_rainfall_a2.tif', 'Z:\\\\Scratch\\\\grants\\\\rainfall\\\\nt\\\\plb\\\\NT_190905191004_total_rainfall_a2.tif', 'Z:\\\\Scratch\\\\grants\\\\rainfall\\\\nt\\\\plb\\\\NT_191005191104_total_rainfall_a2.tif', 'Z:\\\\Scratch\\\\grants\\\\rainfall\\\\nt\\\\plb\\\\NT_191105191204_total_rainfall_a2.tif', 'Z:\\\\Scratch\\\\grants\\\\rainfall\\\\nt\\\\plb\\\\NT_191205191304_total_rainfall_a2.tif', 'Z:\\\\Scratch\\\\grants\\\\rainfall\\\\nt\\\\plb\\\\NT_191305191404_total_rainfall_a2.tif', 'Z:\\\\Scratch\\\\grants\\\\rainfall\\\\nt\\\\plb\\\\NT_191405191504_total_rainfall_a2.tif', 'Z:\\\\Scratch\\\\grants\\\\rainfall\\\\nt\\\\plb\\\\NT_191505191604_total_rainfall_a2.tif', 'Z:\\\\Scratch\\\\grants\\\\rainfall\\\\nt\\\\plb\\\\NT_191605191704_total_rainfall_a2.tif', 'Z:\\\\Scratch\\\\grants\\\\rainfall\\\\nt\\\\plb\\\\NT_191705191804_total_rainfall_a2.tif', 'Z:\\\\Scratch\\\\grants\\\\rainfall\\\\nt\\\\plb\\\\NT_191805191904_total_rainfall_a2.tif', 'Z:\\\\Scratch\\\\grants\\\\rainfall\\\\nt\\\\plb\\\\NT_191905192004_total_rainfall_a2.tif', 'Z:\\\\Scratch\\\\grants\\\\rainfall\\\\nt\\\\plb\\\\NT_192005192104_total_rainfall_a2.tif', 'Z:\\\\Scratch\\\\grants\\\\rainfall\\\\nt\\\\plb\\\\NT_192105192204_total_rainfall_a2.tif', 'Z:\\\\Scratch\\\\grants\\\\rainfall\\\\nt\\\\plb\\\\NT_192205192304_total_rainfall_a2.tif', 'Z:\\\\Scratch\\\\grants\\\\rainfall\\\\nt\\\\plb\\\\NT_192305192404_total_rainfall_a2.tif', 'Z:\\\\Scratch\\\\grants\\\\rainfall\\\\nt\\\\plb\\\\NT_192405192504_total_rainfall_a2.tif', 'Z:\\\\Scratch\\\\grants\\\\rainfall\\\\nt\\\\plb\\\\NT_192505192604_total_rainfall_a2.tif', 'Z:\\\\Scratch\\\\grants\\\\rainfall\\\\nt\\\\plb\\\\NT_192605192704_total_rainfall_a2.tif', 'Z:\\\\Scratch\\\\grants\\\\rainfall\\\\nt\\\\plb\\\\NT_192705192804_total_rainfall_a2.tif', 'Z:\\\\Scratch\\\\grants\\\\rainfall\\\\nt\\\\plb\\\\NT_192805192904_total_rainfall_a2.tif', 'Z:\\\\Scratch\\\\grants\\\\rainfall\\\\nt\\\\plb\\\\NT_192905193004_total_rainfall_a2.tif', 'Z:\\\\Scratch\\\\grants\\\\rainfall\\\\nt\\\\plb\\\\NT_193005193104_total_rainfall_a2.tif', 'Z:\\\\Scratch\\\\grants\\\\rainfall\\\\nt\\\\plb\\\\NT_193105193204_total_rainfall_a2.tif', 'Z:\\\\Scratch\\\\grants\\\\rainfall\\\\nt\\\\plb\\\\NT_193205193304_total_rainfall_a2.tif', 'Z:\\\\Scratch\\\\grants\\\\rainfall\\\\nt\\\\plb\\\\NT_193305193404_total_rainfall_a2.tif', 'Z:\\\\Scratch\\\\grants\\\\rainfall\\\\nt\\\\plb\\\\NT_193405193504_total_rainfall_a2.tif', 'Z:\\\\Scratch\\\\grants\\\\rainfall\\\\nt\\\\plb\\\\NT_193505193604_total_rainfall_a2.tif', 'Z:\\\\Scratch\\\\grants\\\\rainfall\\\\nt\\\\plb\\\\NT_193605193704_total_rainfall_a2.tif', 'Z:\\\\Scratch\\\\grants\\\\rainfall\\\\nt\\\\plb\\\\NT_193705193804_total_rainfall_a2.tif', 'Z:\\\\Scratch\\\\grants\\\\rainfall\\\\nt\\\\plb\\\\NT_193805193904_total_rainfall_a2.tif', 'Z:\\\\Scratch\\\\grants\\\\rainfall\\\\nt\\\\plb\\\\NT_193905194004_total_rainfall_a2.tif', 'Z:\\\\Scratch\\\\grants\\\\rainfall\\\\nt\\\\plb\\\\NT_194005194104_total_rainfall_a2.tif', 'Z:\\\\Scratch\\\\grants\\\\rainfall\\\\nt\\\\plb\\\\NT_194105194204_total_rainfall_a2.tif', 'Z:\\\\Scratch\\\\grants\\\\rainfall\\\\nt\\\\plb\\\\NT_194205194304_total_rainfall_a2.tif', 'Z:\\\\Scratch\\\\grants\\\\rainfall\\\\nt\\\\plb\\\\NT_194305194404_total_rainfall_a2.tif', 'Z:\\\\Scratch\\\\grants\\\\rainfall\\\\nt\\\\plb\\\\NT_194405194504_total_rainfall_a2.tif', 'Z:\\\\Scratch\\\\grants\\\\rainfall\\\\nt\\\\plb\\\\NT_194505194604_total_rainfall_a2.tif', 'Z:\\\\Scratch\\\\grants\\\\rainfall\\\\nt\\\\plb\\\\NT_194605194704_total_rainfall_a2.tif', 'Z:\\\\Scratch\\\\grants\\\\rainfall\\\\nt\\\\plb\\\\NT_194705194804_total_rainfall_a2.tif', 'Z:\\\\Scratch\\\\grants\\\\rainfall\\\\nt\\\\plb\\\\NT_194805194904_total_rainfall_a2.tif', 'Z:\\\\Scratch\\\\grants\\\\rainfall\\\\nt\\\\plb\\\\NT_194905195004_total_rainfall_a2.tif', 'Z:\\\\Scratch\\\\grants\\\\rainfall\\\\nt\\\\plb\\\\NT_195005195104_total_rainfall_a2.tif', 'Z:\\\\Scratch\\\\grants\\\\rainfall\\\\nt\\\\plb\\\\NT_195105195204_total_rainfall_a2.tif', 'Z:\\\\Scratch\\\\grants\\\\rainfall\\\\nt\\\\plb\\\\NT_195205195304_total_rainfall_a2.tif', 'Z:\\\\Scratch\\\\grants\\\\rainfall\\\\nt\\\\plb\\\\NT_195305195404_total_rainfall_a2.tif', 'Z:\\\\Scratch\\\\grants\\\\rainfall\\\\nt\\\\plb\\\\NT_195405195504_total_rainfall_a2.tif', 'Z:\\\\Scratch\\\\grants\\\\rainfall\\\\nt\\\\plb\\\\NT_195505195604_total_rainfall_a2.tif', 'Z:\\\\Scratch\\\\grants\\\\rainfall\\\\nt\\\\plb\\\\NT_195605195704_total_rainfall_a2.tif', 'Z:\\\\Scratch\\\\grants\\\\rainfall\\\\nt\\\\plb\\\\NT_195705195804_total_rainfall_a2.tif', 'Z:\\\\Scratch\\\\grants\\\\rainfall\\\\nt\\\\plb\\\\NT_195805195904_total_rainfall_a2.tif', 'Z:\\\\Scratch\\\\grants\\\\rainfall\\\\nt\\\\plb\\\\NT_195905196004_total_rainfall_a2.tif', 'Z:\\\\Scratch\\\\grants\\\\rainfall\\\\nt\\\\plb\\\\NT_196005196104_total_rainfall_a2.tif', 'Z:\\\\Scratch\\\\grants\\\\rainfall\\\\nt\\\\plb\\\\NT_196105196204_total_rainfall_a2.tif', 'Z:\\\\Scratch\\\\grants\\\\rainfall\\\\nt\\\\plb\\\\NT_196205196304_total_rainfall_a2.tif', 'Z:\\\\Scratch\\\\grants\\\\rainfall\\\\nt\\\\plb\\\\NT_196305196404_total_rainfall_a2.tif', 'Z:\\\\Scratch\\\\grants\\\\rainfall\\\\nt\\\\plb\\\\NT_196405196504_total_rainfall_a2.tif', 'Z:\\\\Scratch\\\\grants\\\\rainfall\\\\nt\\\\plb\\\\NT_196505196604_total_rainfall_a2.tif', 'Z:\\\\Scratch\\\\grants\\\\rainfall\\\\nt\\\\plb\\\\NT_196605196704_total_rainfall_a2.tif', 'Z:\\\\Scratch\\\\grants\\\\rainfall\\\\nt\\\\plb\\\\NT_196705196804_total_rainfall_a2.tif', 'Z:\\\\Scratch\\\\grants\\\\rainfall\\\\nt\\\\plb\\\\NT_196805196904_total_rainfall_a2.tif', 'Z:\\\\Scratch\\\\grants\\\\rainfall\\\\nt\\\\plb\\\\NT_196905197004_total_rainfall_a2.tif', 'Z:\\\\Scratch\\\\grants\\\\rainfall\\\\nt\\\\plb\\\\NT_197005197104_total_rainfall_a2.tif', 'Z:\\\\Scratch\\\\grants\\\\rainfall\\\\nt\\\\plb\\\\NT_197105197204_total_rainfall_a2.tif', 'Z:\\\\Scratch\\\\grants\\\\rainfall\\\\nt\\\\plb\\\\NT_197205197304_total_rainfall_a2.tif', 'Z:\\\\Scratch\\\\grants\\\\rainfall\\\\nt\\\\plb\\\\NT_197305197404_total_rainfall_a2.tif', 'Z:\\\\Scratch\\\\grants\\\\rainfall\\\\nt\\\\plb\\\\NT_197405197504_total_rainfall_a2.tif', 'Z:\\\\Scratch\\\\grants\\\\rainfall\\\\nt\\\\plb\\\\NT_197505197604_total_rainfall_a2.tif', 'Z:\\\\Scratch\\\\grants\\\\rainfall\\\\nt\\\\plb\\\\NT_197605197704_total_rainfall_a2.tif', 'Z:\\\\Scratch\\\\grants\\\\rainfall\\\\nt\\\\plb\\\\NT_197705197804_total_rainfall_a2.tif', 'Z:\\\\Scratch\\\\grants\\\\rainfall\\\\nt\\\\plb\\\\NT_197805197904_total_rainfall_a2.tif', 'Z:\\\\Scratch\\\\grants\\\\rainfall\\\\nt\\\\plb\\\\NT_197905198004_total_rainfall_a2.tif', 'Z:\\\\Scratch\\\\grants\\\\rainfall\\\\nt\\\\plb\\\\NT_198005198104_total_rainfall_a2.tif', 'Z:\\\\Scratch\\\\grants\\\\rainfall\\\\nt\\\\plb\\\\NT_198105198204_total_rainfall_a2.tif', 'Z:\\\\Scratch\\\\grants\\\\rainfall\\\\nt\\\\plb\\\\NT_198205198304_total_rainfall_a2.tif', 'Z:\\\\Scratch\\\\grants\\\\rainfall\\\\nt\\\\plb\\\\NT_198305198404_total_rainfall_a2.tif', 'Z:\\\\Scratch\\\\grants\\\\rainfall\\\\nt\\\\plb\\\\NT_198405198504_total_rainfall_a2.tif', 'Z:\\\\Scratch\\\\grants\\\\rainfall\\\\nt\\\\plb\\\\NT_198505198604_total_rainfall_a2.tif', 'Z:\\\\Scratch\\\\grants\\\\rainfall\\\\nt\\\\plb\\\\NT_198605198704_total_rainfall_a2.tif', 'Z:\\\\Scratch\\\\grants\\\\rainfall\\\\nt\\\\plb\\\\NT_198705198804_total_rainfall_a2.tif', 'Z:\\\\Scratch\\\\grants\\\\rainfall\\\\nt\\\\plb\\\\NT_198805198904_total_rainfall_a2.tif', 'Z:\\\\Scratch\\\\grants\\\\rainfall\\\\nt\\\\plb\\\\NT_198905199004_total_rainfall_a2.tif', 'Z:\\\\Scratch\\\\grants\\\\rainfall\\\\nt\\\\plb\\\\NT_199005199104_total_rainfall_a2.tif', 'Z:\\\\Scratch\\\\grants\\\\rainfall\\\\nt\\\\plb\\\\NT_199105199204_total_rainfall_a2.tif', 'Z:\\\\Scratch\\\\grants\\\\rainfall\\\\nt\\\\plb\\\\NT_199205199304_total_rainfall_a2.tif', 'Z:\\\\Scratch\\\\grants\\\\rainfall\\\\nt\\\\plb\\\\NT_199305199404_total_rainfall_a2.tif', 'Z:\\\\Scratch\\\\grants\\\\rainfall\\\\nt\\\\plb\\\\NT_199405199504_total_rainfall_a2.tif', 'Z:\\\\Scratch\\\\grants\\\\rainfall\\\\nt\\\\plb\\\\NT_199505199604_total_rainfall_a2.tif', 'Z:\\\\Scratch\\\\grants\\\\rainfall\\\\nt\\\\plb\\\\NT_199605199704_total_rainfall_a2.tif', 'Z:\\\\Scratch\\\\grants\\\\rainfall\\\\nt\\\\plb\\\\NT_199705199804_total_rainfall_a2.tif', 'Z:\\\\Scratch\\\\grants\\\\rainfall\\\\nt\\\\plb\\\\NT_199805199904_total_rainfall_a2.tif', 'Z:\\\\Scratch\\\\grants\\\\rainfall\\\\nt\\\\plb\\\\NT_199905200004_total_rainfall_a2.tif', 'Z:\\\\Scratch\\\\grants\\\\rainfall\\\\nt\\\\plb\\\\NT_200005200104_total_rainfall_a2.tif', 'Z:\\\\Scratch\\\\grants\\\\rainfall\\\\nt\\\\plb\\\\NT_200105200204_total_rainfall_a2.tif', 'Z:\\\\Scratch\\\\grants\\\\rainfall\\\\nt\\\\plb\\\\NT_200205200304_total_rainfall_a2.tif', 'Z:\\\\Scratch\\\\grants\\\\rainfall\\\\nt\\\\plb\\\\NT_200305200404_total_rainfall_a2.tif', 'Z:\\\\Scratch\\\\grants\\\\rainfall\\\\nt\\\\plb\\\\NT_200405200504_total_rainfall_a2.tif', 'Z:\\\\Scratch\\\\grants\\\\rainfall\\\\nt\\\\plb\\\\NT_200505200604_total_rainfall_a2.tif', 'Z:\\\\Scratch\\\\grants\\\\rainfall\\\\nt\\\\plb\\\\NT_200605200704_total_rainfall_a2.tif', 'Z:\\\\Scratch\\\\grants\\\\rainfall\\\\nt\\\\plb\\\\NT_200705200804_total_rainfall_a2.tif', 'Z:\\\\Scratch\\\\grants\\\\rainfall\\\\nt\\\\plb\\\\NT_200805200904_total_rainfall_a2.tif', 'Z:\\\\Scratch\\\\grants\\\\rainfall\\\\nt\\\\plb\\\\NT_200905201004_total_rainfall_a2.tif', 'Z:\\\\Scratch\\\\grants\\\\rainfall\\\\nt\\\\plb\\\\NT_201005201104_total_rainfall_a2.tif', 'Z:\\\\Scratch\\\\grants\\\\rainfall\\\\nt\\\\plb\\\\NT_201105201204_total_rainfall_a2.tif', 'Z:\\\\Scratch\\\\grants\\\\rainfall\\\\nt\\\\plb\\\\NT_201205201304_total_rainfall_a2.tif', 'Z:\\\\Scratch\\\\grants\\\\rainfall\\\\nt\\\\plb\\\\NT_201305201404_total_rainfall_a2.tif', 'Z:\\\\Scratch\\\\grants\\\\rainfall\\\\nt\\\\plb\\\\NT_201405201504_total_rainfall_a2.tif', 'Z:\\\\Scratch\\\\grants\\\\rainfall\\\\nt\\\\plb\\\\NT_201505201604_total_rainfall_a2.tif', 'Z:\\\\Scratch\\\\grants\\\\rainfall\\\\nt\\\\plb\\\\NT_201605201704_total_rainfall_a2.tif', 'Z:\\\\Scratch\\\\grants\\\\rainfall\\\\nt\\\\plb\\\\NT_201705201804_total_rainfall_a2.tif']\n"
     ]
    }
   ],
   "source": [
    "%run total_rain_percentileofscore.py -l plb_total_rainfall_list.csv \\\n",
    " -i Z:\\Scratch\\grants\\rainfall\\nt\\plb\\NT_201805201904_total_rainfall_a2.tif \\\n",
    "  -o  Z:\\Scratch\\grants\\rainfall\\nt\\plb\\NT_201805201904_perc_rainfall_a2.tif  "
   ]
  },
  {
   "cell_type": "markdown",
   "metadata": {},
   "source": [
    "## Step 3. "
   ]
  },
  {
   "cell_type": "code",
   "execution_count": 50,
   "metadata": {},
   "outputs": [
    {
     "name": "stdout",
     "output_type": "stream",
     "text": [
      "usage: perc_to_decile.py [-h] [-i INIMAGE] [-o OUTPUT]\n",
      "\n",
      "optional arguments:\n",
      "  -h, --help            show this help message and exit\n",
      "  -i INIMAGE, --inimage INIMAGE\n",
      "                        input percentile score total rainfall image\n",
      "  -o OUTPUT, --output OUTPUT\n",
      "                        directroy path and name of the output image\n"
     ]
    }
   ],
   "source": [
    "%run perc_to_decile.py -h"
   ]
  },
  {
   "cell_type": "code",
   "execution_count": 11,
   "metadata": {},
   "outputs": [],
   "source": [
    "%run perc_to_decile.py -i Z:\\Scratch\\grants\\rainfall\\nt\\plb\\NT_201805201904_perc_rainfall_a2.tif  \\\n",
    "    -o Z:\\Scratch\\grants\\rainfall\\nt\\plb\\NT_201805201904_decile_rainfall_a2.tif  "
   ]
  },
  {
   "cell_type": "code",
   "execution_count": null,
   "metadata": {},
   "outputs": [],
   "source": []
  }
 ],
 "metadata": {
  "kernelspec": {
   "display_name": "Python 3 (ipykernel)",
   "language": "python",
   "name": "python3"
  },
  "language_info": {
   "codemirror_mode": {
    "name": "ipython",
    "version": 3
   },
   "file_extension": ".py",
   "mimetype": "text/x-python",
   "name": "python",
   "nbconvert_exporter": "python",
   "pygments_lexer": "ipython3",
   "version": "3.8.12"
  }
 },
 "nbformat": 4,
 "nbformat_minor": 2
}
